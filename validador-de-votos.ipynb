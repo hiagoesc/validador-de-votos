{
 "cells": [
  {
   "cell_type": "markdown",
   "metadata": {},
   "source": [
    "### Função para criação do arquivo final em excel"
   ]
  },
  {
   "cell_type": "code",
   "execution_count": null,
   "metadata": {},
   "outputs": [],
   "source": [
    "import pandas as pd\n",
    "\n",
    "def criar_excel(df, caminho='dt_pandas_to_excel.xlsx', indice=True, nome_planilha='Planilha1'):\n",
    "    '''Cria um arquivo do excel formatado a partir de um data frame pandas\n",
    "    \n",
    "    Parameters:\n",
    "        df (objeto pandas DataFrame): Data frame a ser convertido em planilha do excel\n",
    "        caminho (string): Caminho do local para salvar o arquivo, com nome do arquivo e extensão\n",
    "        indice (boolean): Indica se o arquivo irá ou não criar coluna para os índices do data frame\n",
    "        nome_planilha (string): Nome para a aba/planilha da pasta de trabalho do excel\n",
    "    \n",
    "    Returns:\n",
    "        Não possui retorno    \n",
    "    '''\n",
    "    \n",
    "    # Cria um escritor pandas excel usando XlsxWriter como mecanismo e indicando o caminho como parâmetro\n",
    "    escritor = pd.ExcelWriter(caminho, engine='xlsxwriter')\n",
    "\n",
    "    # Converte o data frame em um objeto excel XlsxWriter\n",
    "    df.to_excel(\n",
    "        escritor,\n",
    "        sheet_name=nome_planilha, # Define o nome da aba/planilha da pasta de trabalho\n",
    "        startrow=1, # Pula uma linha para que seja possível inserir cabeçalho personalizado\n",
    "        header=False, # Desativa o cabeçalho padrão\n",
    "        index=indice # Define se irá criar coluna para índice ou não de acordo com o parâmtero informado\n",
    "    )\n",
    "\n",
    "    # Obtém a pasta de trabalho XlsxWriter e os objetos de planilha\n",
    "    pasta_trabalho = escritor.book # Pasta de trabalho\n",
    "    pasta_trabalho = escritor.sheets[nome_planilha] # Planilha\n",
    "\n",
    "    # Obtém as dimensões do data frame\n",
    "    (qtde_linhas, qtde_colunas) = df.shape\n",
    "\n",
    "    # Cria uma lista de cabeçalhos das colunas para uso no add_table()\n",
    "    config_colunas = []\n",
    "    if indice == True: # Se Parâmetro do índice for verdadeiro, inclui o primeiro cabeçalho como 'Índice'\n",
    "        config_colunas.append({'header': 'Índice'})\n",
    "    for cabecalho in df.columns: # Para cada coluna no data frame, inclui o cabeçalho na lista\n",
    "        config_colunas.append({'header': cabecalho})\n",
    "    \n",
    "    # Caso parâmetro do índice for falso, diminui uma coluna da quantidade de colunas \n",
    "    if indice == False:\n",
    "        qtde_colunas -= 1\n",
    "        \n",
    "    # Adiciona a tabela\n",
    "    pasta_trabalho.add_table(0, 0, qtde_linhas, qtde_colunas, {'columns': config_colunas})\n",
    "\n",
    "    # Aumente a largura das colunas para melhor visualização\n",
    "    pasta_trabalho.set_column(0, qtde_colunas, 25)\n",
    "\n",
    "    # Fecha o escritor pandas excel writer e salva o arquivo excel\n",
    "    escritor.save()"
   ]
  },
  {
   "cell_type": "markdown",
   "metadata": {},
   "source": [
    "### Validação dos votos de evento gastronômico"
   ]
  },
  {
   "cell_type": "code",
   "execution_count": null,
   "metadata": {
    "scrolled": true
   },
   "outputs": [],
   "source": [
    "import pandas as pd\n",
    "\n",
    "# Abrir planilha de votos\n",
    "df_votos_brutos = pd.read_excel('votos-brutos.xlsx')\n",
    "\n",
    "# Abrir a planilha de códigos com os estabelecimentos preenchidos\n",
    "df_codigos = pd.read_excel('codigos-categorias-geral-preenchido.xlsx')\n",
    "\n",
    "# Armazenando apenas as colunas de código, categoria e estabelecimento do data frame de códigos\n",
    "df_codigos = df_codigos[['Código', 'Categoria', 'Estabelecimento']]\n",
    "\n",
    "# Renomeando a coluna de códigos do data frame de votos, para igualar o nome com o do data frame de códigos\n",
    "df_votos_brutos = df_votos_brutos.rename(columns={'Código de Validação':'Código'})\n",
    "display(df_votos_brutos.info())\n",
    "\n",
    "# Novo data frame de votos válidos recebe apenas os votos onde o código informado contiver 6 caracteres\n",
    "df_votos_validos = df_votos_brutos[df_votos_brutos['Código'].str.len() == 6]\n",
    "display(df_votos_validos.info())\n",
    "\n",
    "# Novo data frame de votos inválidos recebe apenas os votos onde o código informado não contiver 6 caracteres\n",
    "df_votos_invalidos = df_votos_brutos[df_votos_brutos['Código'].str.len() != 6]\n",
    "display(df_votos_invalidos.info())\n",
    "\n",
    "# Alterando todos os códigos de validação dos votos para lowercase (letras minúsculas)\n",
    "# para caso alguém tenha digitado com alguma letra maiúscula por engano\n",
    "df_votos_validos['Código'] = df_votos_validos['Código'].str.lower()\n",
    "display(df_votos_validos.info())\n",
    "\n",
    "# Excluir votos com códigos inseridos mais de uma vez\n",
    "df_votos_validos = df_votos_validos.drop_duplicates(subset=['Código'], keep='first')\n",
    "display(df_votos_validos.info())\n",
    "\n",
    "# Atribuir o valor da categoria e do estabelecimento para cada código do data frame de votos\n",
    "df_votos_validos = df_votos_validos.merge(df_codigos, on='Código')\n",
    "\n",
    "# Ordenar as colunas recém inseridas após a coluna de códigos para melhor visualização\n",
    "colunas_inicio = ['Carimbo de data/hora', 'Código', 'Categoria', 'Estabelecimento'] # Lista com as quatro primeiras colunas\n",
    "todas_colunas = colunas_inicio + (df_votos_validos.columns.drop(colunas_inicio).tolist()) # Lista com todas as colunas ordenadas (as quatro primeiras e todas as colunas tirando as quatro primeiras)\n",
    "df_votos_validos = df_votos_validos[todas_colunas] # Atribuindo o data frame à mesma variável com as colunas ordenadas\n",
    "\n",
    "# Cria pasta de trabalho do excel com o data frame\n",
    "criar_excel(df_votos_validos, caminho='votos-validos.xlsx', indice=False)"
   ]
  }
 ],
 "metadata": {
  "kernelspec": {
   "display_name": "Python 3",
   "language": "python",
   "name": "python3"
  },
  "language_info": {
   "codemirror_mode": {
    "name": "ipython",
    "version": 3
   },
   "file_extension": ".py",
   "mimetype": "text/x-python",
   "name": "python",
   "nbconvert_exporter": "python",
   "pygments_lexer": "ipython3",
   "version": "3.8.5"
  }
 },
 "nbformat": 4,
 "nbformat_minor": 4
}
